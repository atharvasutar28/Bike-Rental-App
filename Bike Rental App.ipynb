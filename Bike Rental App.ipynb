{
 "cells": [
  {
   "cell_type": "code",
   "execution_count": 1,
   "id": "a2172d3f",
   "metadata": {},
   "outputs": [],
   "source": [
    "class BikeRental():\n",
    "    \n",
    "    def __init__(self, stock = 100):\n",
    "        self.stock = stock\n",
    "        print(\"Welcome to Rental Bike Shop\")\n",
    "    \n",
    "    def displaystock(self):\n",
    "        print(\"Stock Avialable:\", self.stock)"
   ]
  },
  {
   "cell_type": "code",
   "execution_count": 2,
   "id": "a276ce23",
   "metadata": {},
   "outputs": [],
   "source": [
    "class Customer(BikeRental):\n",
    "    \n",
    "    def __init__(self, number_of_bikes, rentalBasis, number_of_days_or_weeks):\n",
    "        super().__init__()\n",
    "        self.number_of_bikes = number_of_bikes\n",
    "        self.rentalBasis = rentalBasis\n",
    "        self.number_of_days_or_weeks = number_of_days_or_weeks\n",
    "        \n",
    "    def rentBike(self):\n",
    "        if self.number_of_bikes <= 0:\n",
    "            print(\"Number of Bikes should be Positive.\")\n",
    "        elif self.number_of_bikes > self.stock:\n",
    "            print(\"Only\", self.stock, \"bikes available to rent.\")\n",
    "        else:\n",
    "            print(self.number_of_bikes, \"Bikes rented by customers.\")\n",
    "            self.stock = self.stock - self.number_of_bikes\n",
    "            \n",
    "    def returnBike(self):\n",
    "        bill = 0\n",
    "        if self.rentalBasis == 'Daily':\n",
    "            bill = self.number_of_bikes * (self.number_of_days_or_weeks * 100)\n",
    "            if self.number_of_bikes >= 3 and self.number_of_bikes <= 5:\n",
    "                print(\"You are Eligible for Family Rental Promotion of 30% Discount!\")\n",
    "                discount = bill \n",
    "                discount = discount * (30 / 100)\n",
    "                bill -= discount\n",
    "        elif self.rentalBasis == 'Weekly':\n",
    "            bill = self.number_of_bikes * (self.number_of_days_or_weeks * 500)\n",
    "            if self.number_of_bikes >= 3 and self.number_of_bikes <= 5:\n",
    "                print(\"You are Eligible for Family Rental Promotion of 30% Discount!\")\n",
    "                discount = bill \n",
    "                discount = discount * (30 / 100)\n",
    "                bill -= discount\n",
    "        return str(bill) + ' Rs'"
   ]
  },
  {
   "cell_type": "code",
   "execution_count": 3,
   "id": "41b6e161",
   "metadata": {},
   "outputs": [
    {
     "name": "stdout",
     "output_type": "stream",
     "text": [
      "Welcome to Rental Bike Shop\n"
     ]
    }
   ],
   "source": [
    "customer_1 = Customer(2,'Daily',5)"
   ]
  },
  {
   "cell_type": "code",
   "execution_count": 4,
   "id": "4d1e07b4",
   "metadata": {},
   "outputs": [
    {
     "name": "stdout",
     "output_type": "stream",
     "text": [
      "2 Bikes rented by customers.\n"
     ]
    }
   ],
   "source": [
    "customer_1.rentBike()"
   ]
  },
  {
   "cell_type": "code",
   "execution_count": 5,
   "id": "85036c57",
   "metadata": {},
   "outputs": [
    {
     "data": {
      "text/plain": [
       "'1000 Rs'"
      ]
     },
     "execution_count": 5,
     "metadata": {},
     "output_type": "execute_result"
    }
   ],
   "source": [
    "customer_1.returnBike()"
   ]
  },
  {
   "cell_type": "code",
   "execution_count": 6,
   "id": "6e75a632",
   "metadata": {},
   "outputs": [
    {
     "name": "stdout",
     "output_type": "stream",
     "text": [
      "Welcome to Rental Bike Shop\n"
     ]
    }
   ],
   "source": [
    "customer_2 = Customer(1,'Weekly',3)"
   ]
  },
  {
   "cell_type": "code",
   "execution_count": 7,
   "id": "af18ca04",
   "metadata": {},
   "outputs": [
    {
     "name": "stdout",
     "output_type": "stream",
     "text": [
      "1 Bikes rented by customers.\n"
     ]
    }
   ],
   "source": [
    "customer_2.rentBike()"
   ]
  },
  {
   "cell_type": "code",
   "execution_count": 8,
   "id": "5550ebdb",
   "metadata": {},
   "outputs": [
    {
     "data": {
      "text/plain": [
       "'1500 Rs'"
      ]
     },
     "execution_count": 8,
     "metadata": {},
     "output_type": "execute_result"
    }
   ],
   "source": [
    "customer_2.returnBike()"
   ]
  },
  {
   "cell_type": "code",
   "execution_count": null,
   "id": "43e49c1d",
   "metadata": {},
   "outputs": [],
   "source": []
  }
 ],
 "metadata": {
  "kernelspec": {
   "display_name": "Python 3 (ipykernel)",
   "language": "python",
   "name": "python3"
  },
  "language_info": {
   "codemirror_mode": {
    "name": "ipython",
    "version": 3
   },
   "file_extension": ".py",
   "mimetype": "text/x-python",
   "name": "python",
   "nbconvert_exporter": "python",
   "pygments_lexer": "ipython3",
   "version": "3.11.4"
  }
 },
 "nbformat": 4,
 "nbformat_minor": 5
}
